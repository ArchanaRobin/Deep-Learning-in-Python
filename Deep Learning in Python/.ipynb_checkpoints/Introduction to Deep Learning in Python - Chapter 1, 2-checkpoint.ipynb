{
 "cells": [
  {
   "cell_type": "markdown",
   "id": "99aff9c9",
   "metadata": {},
   "source": [
    "## Introduction to Deep Learning in Python\n",
    "\n",
    "In this chapter, you'll become familiar with the fundamental concepts and terminology used in deep learning, and understand why deep learning techniques are so powerful today. You'll build simple neural networks and generate predictions with them. This is the Summary of lecture \"Introduction to Deep Learning in Python\", via datacamp.\n"
   ]
  },
  {
   "cell_type": "markdown",
   "id": "6666f5b4",
   "metadata": {},
   "source": [
    "## Basics of deep learning and neural networks - Chapter 1\n",
    "\n",
    "Interactions\n",
    "\n",
    "Neural Networks account for interactions really well\n",
    "\n",
    "Deep Learning uses especially powerful neural networks\n",
    "\n",
    "Text, Images, Videos, Audio, Source Code, etc.."
   ]
  },
  {
   "cell_type": "markdown",
   "id": "ba3c4d4e",
   "metadata": {},
   "source": [
    "Imagine you work for a bank, and you need to build a model predicting how many transactions each customer will make next year. You have predictive data or features like each customer’s age, bank balance, whether they are retired, and so on. We'll get to deep learning in a moment, but for comparison, consider how a simple linear regression model works for this problem. The linear regression embeds an assumption that the outcome, in this case how many transactions a user makes, is the sum of individual parts. It starts by saying, \"what is the average?\" Then it adds the effect of age. Then the effect of bank balance. And so on. So the linear regression model isn't identifying the interactions between these parts, and how they affect banking activity.\n",
    "\n",
    " -  Example as seen by linear regression\n",
    "Say we plot predictions from this model.\n",
    "\n",
    "\n",
    " -  Example as seen by linear regression\n",
    "We draw one line with the predictions for retired people,\n",
    "\n",
    "\n",
    " -  Example as seen by linear regression\n",
    "and another with the predictions for those still working.\n",
    "\n",
    "\n",
    " -  Example as seen by linear regression\n",
    "We put current bank balance on the horizontal axis, and the\n",
    "\n",
    "\n",
    " -  Example as seen by linear regression\n",
    "vertical axis is the predicted number of transactions.\n",
    "\n",
    "\n",
    " -  Example as seen by linear regression\n",
    "The left graph shows predictions from a model with no interactions. In that model we simply add up the effect of the retirement status, and current bank balance. The lack of interactions is reflected by both lines being parallel. That's probably unrealistic, but it's an assumption of the linear regression model.\n",
    "\n",
    " -  Example as seen by linear regression\n",
    "The graph on the right shows the predictions from a model that allows interactions, and the lines don't need to be parallel. Neural networks are a powerful\n",
    "\n",
    "\n",
    " -  Interactions\n",
    "modeling approach that accounts for interactions like this especially well. Deep learning, the focus of this course, is the use of especially powerful neural networks. Because deep learning models account for these types of interactions so well, they perform great on most prediction problems you've seen before. But their ability to capture extremely complex interactions also allow them to do amazing things with text, images, videos, audio, source code and almost anything else you could imagine doing data science with.\n",
    "\n",
    "\n",
    " -  Course structure\n",
    "The first two chapters of this course focus on conceptual knowledge about deep learning. This part will be hard, but it will prepare you to debug and tune deep learning models on conventional prediction problems, and it will lay the foundation for progressing towards those new and exciting applications. You'll see this pay off in the third and fourth chapter.\n",
    "\n",
    "\n",
    " -  Build and tune deep learning models using keras\n",
    "You will write code that looks like this, to build and tune deep learning models using keras, to solve many of the same modeling problems you might have previously solved with scikit-learn. As a start to how deep learning models capture interactions and achieve these amazing results, we'll modify the diagram you saw a moment ago.\n",
    "\n"
   ]
  },
  {
   "cell_type": "code",
   "execution_count": 45,
   "id": "3bbee25d",
   "metadata": {},
   "outputs": [],
   "source": [
    "import numpy as np\n",
    "import pandas as pd\n",
    "import matplotlib.pyplot as plt\n",
    "\n",
    "plt.rcParams['figure.figsize'] = (8, 8)\n",
    "from sklearn.metrics import mean_squared_error"
   ]
  },
  {
   "cell_type": "markdown",
   "id": "c5ae6283",
   "metadata": {},
   "source": [
    "#### Q: Comparing neural network models to classical regression models\n",
    "Which of the models in the diagrams has greater ability to account for interactions?\n",
    "![](img1.png)\n",
    "Answer: Model 2. Model 2 has more nodes in the hidden layer, and therefore, greater ability to capture interactions."
   ]
  },
  {
   "cell_type": "markdown",
   "id": "0af4c14f",
   "metadata": {},
   "source": [
    "### Forward propagation\n",
    "- Forward propagation\n",
    "    - Multiply - add process\n",
    "    - Dot product\n",
    "    - Forward propagation for one data at a time\n",
    "    - Output is the prediction for that data point"
   ]
  },
  {
   "cell_type": "markdown",
   "id": "79d69209",
   "metadata": {},
   "source": [
    "# Coding the forward propagation algorithm\n",
    "In this exercise, you'll write code to do forward propagation (prediction) for your first neural network:\n",
    "\n",
    "![](img2.png)\n",
    "\n",
    "Each data point is a customer. The first input is how many accounts they have, and the second input is how many children they have. The model will predict how many transactions the user makes in the next year. You will use this data throughout the first 2 chapters of this course.\n",
    "\n",
    "The input data has been pre-loaded as `input_data`, and the `weights` are available in a dictionary called weights. The array of weights for the first node in the hidden layer are in `weights['node_0']`, and the array of weights for the second node in the hidden layer are in` weights['node_1']`.\n",
    "\n",
    "The weights feeding into the output node are available in` weights['output']`.\n",
    "\n",
    "NumPy will be pre-imported for you as np in all exercises."
   ]
  },
  {
   "cell_type": "code",
   "execution_count": 9,
   "id": "f0228000",
   "metadata": {},
   "outputs": [],
   "source": [
    "input_data = np.array([3, 5])\n",
    "weights = {\"node_0\" : np.array([2, 4]),\n",
    "          \"node_1\" : np.array([4, -5]),\n",
    "          \"output\": np.array([2, 7])}"
   ]
  },
  {
   "cell_type": "code",
   "execution_count": 10,
   "id": "5c05a426",
   "metadata": {},
   "outputs": [
    {
     "name": "stdout",
     "output_type": "stream",
     "text": [
      "-39\n"
     ]
    }
   ],
   "source": [
    "# Calculate node 0 value: node_0_value\n",
    "node_0_value = (input_data * weights['node_0']).sum()\n",
    "\n",
    "# Calculate node 1 value: node_1_value\n",
    "node_1_value = (input_data * weights[\"node_1\"]).sum()\n",
    "\n",
    "# Put node values into array: hidden_layer_outputs\n",
    "hidden_layer_outputs = np.array([node_0_value, node_1_value])\n",
    "\n",
    "# Calculate output: output\n",
    "output = (hidden_layer_outputs * weights['output']).sum()\n",
    "\n",
    "# Print output\n",
    "print(output)"
   ]
  },
  {
   "cell_type": "markdown",
   "id": "54cc87a8",
   "metadata": {},
   "source": [
    " note: It looks like the network generated a prediction of -39."
   ]
  },
  {
   "cell_type": "markdown",
   "id": "f266c09d",
   "metadata": {},
   "source": [
    "####  Activation functions\n",
    "\n",
    "1. Activation functions\n",
    "\n",
    "But creating this multiply-add-process is only half the story for hidden layers. For neural networks to achieve their maximum predictive power, we must apply something called an activation function in the hidden layers.\n",
    "\n",
    "2. Linear vs Nonlinear Functions\n",
    "\n",
    "An activation function allows the model to capture non-linearities. Non-linearities, as shown on the right here, capture patterns like how going from no children to one child may impact your banking transactions differently than going from three children to four. We have examples of linear functions, straight lines on the left, and non-linear functions on the right. If the relationships in the data aren’t straight-line relationships, we will need an activation function that captures non-linearities.\n",
    "\n",
    "3. Activation functions\n",
    "\n",
    "An activation function is something applied to the value coming into a node, which then transforms it into the value stored in that node, or the node output.\n",
    "\n",
    "4. Improving our neural network\n",
    "\n",
    "Let's go back to the previous diagram. The top hidden node previously had a value of 5. For a long time, an s-shaped function called tanh was a popular activation function.\n",
    "\n",
    "![](img3.png)\n",
    "\n",
    " 5. Activation functions\n",
    "If we used the tanh activation function, this node's value would be tanh(5), which is very close to 1.Today, the standard in both industry and research applications is something called\n",
    "\n",
    "6. ReLU (Rectified Linear Activation)\n",
    "\n",
    "the ReLU or rectified linear activation function. That's depicted here. Though it has two linear pieces, it's surprisingly powerful when composed together through multiple successive hidden layers, which you will see soon. The code that incorporates activation functions is shown here. It is the same as the code you saw previously, but we've distinguished the input from the output in each node, which is shown in these lines and then again here And we've applied the tanh function to convert the input to the output. That gives us a prediction of 1-point-2 transactions.\n",
    "\n",
    "![](img4.png)\n",
    "\n",
    "\n",
    "\n"
   ]
  },
  {
   "cell_type": "markdown",
   "id": "91ea41e9",
   "metadata": {},
   "source": [
    "#### The Rectified Linear Activation Function\n",
    "As Dan explained to you in the video, an \"activation function\" is a function applied at each node. It converts the node's input into some output.\n",
    "\n",
    "The rectified linear activation function `(called ReLU)` has been shown to lead to very high-performance networks. This function takes a single number as an input, returning 0 if the input is negative, and the input if the input is positive.\n",
    "\n",
    "Here are some examples:\n",
    "`relu(3) = 3`\n",
    "`relu(-3) = 0`\n",
    "\n",
    " - Fill in the definition of the relu() function:\n",
    " - Use the max() function to calculate the value for the output of relu().\n",
    " - Apply the relu() function to node_0_input to calculate node_0_output.\n",
    " - Apply the relu() function to node_1_input to calculate node_1_output."
   ]
  },
  {
   "cell_type": "code",
   "execution_count": 15,
   "id": "2b43f74e",
   "metadata": {},
   "outputs": [
    {
     "name": "stdout",
     "output_type": "stream",
     "text": [
      "52\n"
     ]
    }
   ],
   "source": [
    "def relu(input):\n",
    "    '''Define your relu activation function here'''\n",
    "    # Calculate the value for the output of the relu function: output\n",
    "    output = max(0, input)\n",
    "    \n",
    "    # Return the value just calculated\n",
    "    return(output)\n",
    "\n",
    "# Calculate node 0 value: node_0_output\n",
    "node_0_input = (input_data * weights[\"node_0\"]).sum()\n",
    "node_0_output = relu(node_0_input)\n",
    "\n",
    "# Calculate node 1 value: node_1_output\n",
    "node_1_input = (input_data * weights[\"node_1\"]).sum()\n",
    "node_1_output = relu(node_1_input)\n",
    "\n",
    "\n",
    "# Put node values into array: hidden_layer_outputs\n",
    "hidden_layer_outputs = np.array([node_0_output, node_1_output])\n",
    "\n",
    "# Calculate model output (do not apply relu)\n",
    "model_output = (hidden_layer_outputs * weights[\"output\"]).sum()\n",
    "print(model_output)\n"
   ]
  },
  {
   "cell_type": "markdown",
   "id": "062db1bd",
   "metadata": {},
   "source": [
    "note: You predicted 52 transactions. Without this activation function, you would have predicted a negative number! The real power of activation functions will come soon when you start tuning model weights."
   ]
  },
  {
   "cell_type": "markdown",
   "id": "00ae672f",
   "metadata": {},
   "source": [
    "# Applying the network to many observations/rows of data\n",
    "You'll now define a function called `predict_with_network()` which will generate predictions for multiple data observations, which are pre-loaded as `input_data`. As before, `weights` are also pre-loaded. In addition, the `relu()` function you defined in the previous exercise has been pre-loaded.\n",
    "\n",
    " - Define a function called `predict_with_network()` that accepts two arguments - `input_data_row` and `weights` - and returns a prediction from the network as the output.\n",
    " - Calculate the input and output values for each node, storing them as: `node_0_input`, `node_0_output`, `node_1_input`, and `node_1_output`.\n",
    " - To calculate the input value of a node, multiply the relevant arrays together and compute their sum.\n",
    " - To calculate the output value of a node, apply the `relu()` function to the input value of the node.\n",
    " - Calculate the model output by calculating `input_to_final_layer` and `model_output` in the same way you calculated the input and output values for the nodes.\n",
    " - Use a for loop to iterate over input_data:\n",
    " - Use your `predict_with_network()` to generate predictions for each row of the input_data - `input_data_row`. Append each prediction to results."
   ]
  },
  {
   "cell_type": "markdown",
   "id": "576fa300",
   "metadata": {},
   "source": [
    "#### Applying the network to many observations/rows of data\n",
    "You'll now define a function called `predict_with_network()` which will generate predictions for multiple data observations, which are `pre-loaded` as input_data. As before, weights are also `pre-loaded`. In addition, the `relu()` function you defined in the previous exercise has been `pre-loaded`.\n",
    "\n",
    " - Define a function called `predict_with_network()` that accepts two arguments - `input_data_row` and `weights` - and returns a prediction from the network as the output.\n",
    " - Calculate the input and output values for each node, storing them as: `node_0_input, node_0_output, node_1_input, and node_1_output`.\n",
    " - To calculate the input value of a node, multiply the relevant arrays together and compute their sum.\n",
    " - To calculate the output value of a node, apply the `relu()` function to the input value of the node.\n",
    " - Calculate the model output by calculating `input_to_final_layer` and `model_output` in the same way you calculated the input and output values for the nodes.\n",
    " - Use a for loop to iterate over input_data:\n",
    " - Use your `predict_with_network()` to generate predictions for each row of the `input_data` - `input_data_row`. Append each prediction to results."
   ]
  },
  {
   "cell_type": "code",
   "execution_count": 24,
   "id": "45a49140",
   "metadata": {},
   "outputs": [],
   "source": [
    "input_data = [np.array([3, 5]), np.array([ 1, -1]), \n",
    "              np.array([0, 0]), np.array([8, 4])]"
   ]
  },
  {
   "cell_type": "code",
   "execution_count": 27,
   "id": "471827c2",
   "metadata": {},
   "outputs": [
    {
     "name": "stdout",
     "output_type": "stream",
     "text": [
      "[52, 63, 0, 148]\n"
     ]
    }
   ],
   "source": [
    "# Define predict_with_network()\n",
    "def predict_with_network(input_data_row, weights):\n",
    "    # Calculate node 0 value\n",
    "    node_0_input = (input_data_row * weights['node_0']).sum()\n",
    "    node_0_output = relu(node_0_input)\n",
    "    \n",
    "    # Calculate node 1 value\n",
    "    node_1_input = (input_data_row * weights['node_1']).sum()\n",
    "    node_1_output = relu(node_1_input)\n",
    "    \n",
    "    # Put node values into array: hidden_layer_outputs\n",
    "    hidden_layer_outputs = np.array([node_0_output, node_1_output])\n",
    "    \n",
    "    # Calculate model output\n",
    "    input_to_final_layer = (hidden_layer_outputs * weights['output']).sum()\n",
    "    model_output = relu(input_to_final_layer)\n",
    "    \n",
    "    # Return model output\n",
    "    return(model_output)\n",
    "\n",
    "# Create empty list to store prediction results\n",
    "results = []\n",
    "for input_data_row in input_data:\n",
    "    # Append prediction to results\n",
    "    results.append(predict_with_network(input_data_row, weights))\n",
    "    \n",
    "# Print results\n",
    "print(results)"
   ]
  },
  {
   "cell_type": "markdown",
   "id": "a61ca05e",
   "metadata": {},
   "source": [
    "#### Forward propagation in a deeper network\n",
    "You now have a model with 2 hidden layers. The values for an input data point are shown inside the input nodes. The weights are shown on the edges/lines. What prediction would this model make on this data point?\n",
    "\n",
    "Assume the activation function at each node is the identity function. That is, each node's output will be the same as its input. So the value of the bottom node in the first hidden layer is -1, and not 0, as it would be if the ReLU activation function was used.\n",
    "\n",
    "![](img5.png)"
   ]
  },
  {
   "cell_type": "markdown",
   "id": "bdac9b41",
   "metadata": {},
   "source": [
    "note: its zero."
   ]
  },
  {
   "cell_type": "markdown",
   "id": "7ef39f59",
   "metadata": {},
   "source": [
    "#### Multi-layer neural networks\n",
    "In this exercise, you'll write code to do forward propagation for a neural network with 2 hidden layers. Each hidden layer has two nodes. The input data has been preloaded as input_data. The nodes in the first hidden layer are called `node_0_0` and `node_0_1`. Their weights are pre-loaded as `weights['node_0_0']` and `weights['node_0_1']` respectively.\n",
    "\n",
    "The nodes in the second hidden layer are called `node_1_0` and `node_1_1`. Their weights are pre-loaded as `weights['node_1_0']` and `weights['node_1_1']` respectively.\n",
    "\n",
    "We then create a model output from the hidden nodes using `weights` pre-loaded as `weights['output']`.\n",
    "\n",
    "![](img6.png)\n",
    "\n",
    " - Calculate `node_0_0_input` using its weights `weights['node_0_0']` and the given input_data. Then apply the `relu()` function to get `node_0_0_output`.\n",
    " \n",
    " - Do the same as above for `node_0_1_input` to get `node_0_1_output`.\n",
    " \n",
    " - Calculate `node_1_0_input` using its weights `weights['node_1_0']` and the outputs from the first `hidden layer - hidden_0_outputs`. Then apply the `relu()` function to get `node_1_0_output`.\n",
    " \n",
    " - Do the same as above for `node_1_1_inpu`t to get `node_1_1_output`.\n",
    " \n",
    " - Calculate model_output using its weights `weights['output']` and the outputs from the second `hidden layer hidden_1_outputs` array. Do not apply the `relu()` function to this output.\n"
   ]
  },
  {
   "cell_type": "code",
   "execution_count": 30,
   "id": "805e688d",
   "metadata": {},
   "outputs": [],
   "source": [
    "input_data = np.array([3, 5])\n",
    "weights = {\"node_0_0\": np.array([2, 4]),\n",
    "          \"node_0_1\": np.array([4, -5]),\n",
    "          \"node_1_0\": np.array([-1, 1]),\n",
    "          \"node_1_1\": np.array([2, 2]),\n",
    "          \"output\": np.array([2, 7])}\n",
    "          "
   ]
  },
  {
   "cell_type": "code",
   "execution_count": 31,
   "id": "157ac207",
   "metadata": {},
   "outputs": [
    {
     "name": "stdout",
     "output_type": "stream",
     "text": [
      "116\n"
     ]
    }
   ],
   "source": [
    "def predict_with_network(input_data):\n",
    "    # Calculate node 0 in the first hidden layer\n",
    "    node_0_0_input = (input_data * weights[\"node_0_0\"]).sum()\n",
    "    node_0_0_output = relu(node_0_0_input)\n",
    "    \n",
    "    # Calculate node 1 in the first hidden layer\n",
    "    node_0_1_input = (input_data * weights[\"node_0_1\"]).sum()\n",
    "    node_0_1_output = relu(node_0_1_input)\n",
    "    \n",
    "    # Put node values into array: hidden_0_outputs\n",
    "    hidden_0_outputs = np.array([node_0_0_output, node_0_1_output])\n",
    "    \n",
    "    \n",
    "    # Calculate node 0 in the second hidden layer\n",
    "    node_1_0_input = (input_data * weights[\"node_1_0\"]).sum()\n",
    "    node_1_0_output = relu(node_1_0_input)\n",
    "    \n",
    "    # Calculate node 1 in the second hidden layer\n",
    "    node_1_1_input = (input_data * weights[\"node_1_1\"]).sum()\n",
    "    node_1_1_output = relu(node_1_1_input)\n",
    "    \n",
    "    # Put node values into array: hidden_1_outputs\n",
    "    hidden_1_outputs = np.array([node_1_0_output, node_1_1_output])\n",
    "    \n",
    "    # Calculate model output: model_output\n",
    "    model_output = (hidden_1_outputs * weights[\"output\"]).sum()\n",
    "    # Return model_output\n",
    "    return model_output\n",
    "\n",
    "output = predict_with_network(input_data)\n",
    "print(output)\n",
    "    \n",
    "    \n",
    "    \n",
    "    \n",
    "    "
   ]
  },
  {
   "cell_type": "markdown",
   "id": "69a56432",
   "metadata": {},
   "source": [
    "#### Question: Representations are learned\n",
    "\n",
    "How are the weights that determine the features/interactions in Neural Networks created?\n",
    "\n",
    "Ans: The model training process sets them to optimize predictive accuracy."
   ]
  },
  {
   "cell_type": "markdown",
   "id": "f10479db",
   "metadata": {},
   "source": [
    "#### Question: Levels of representation\n",
    "\n",
    "Which layers of a model capture more complex or \"higher level\" interactions?\n",
    "\n",
    "Answer: The last layers capture the most complex interactions."
   ]
  },
  {
   "cell_type": "markdown",
   "id": "45060c66",
   "metadata": {},
   "source": [
    "# Chapter 2: Optimizing a neural network with backward propagation\n",
    "\n",
    "Making accurate predictions gets harder with multiple points. First of all, at any set of weights, we have many values of the error, corresponding to the many points we make predictions for. We use something called a loss function to aggregate all the errors into a single measure of the model's predictive performance.\n",
    "\n",
    "a common loss function for regression tasks is mean-squared error. You square each error,and take the average of that as a measure of model quality. The loss function aggregates all of the errors into a single score. \n",
    "\n",
    " - Loss function\n",
    " \n",
    "Lower values mean a better model, so our goal is to find the weights giving the lowest value for the loss function. We do this with an algorithm called gradient descent. An analogy may be helpful."
   ]
  },
  {
   "cell_type": "markdown",
   "id": "325b94e7",
   "metadata": {},
   "source": [
    "#### The need for optimization\n",
    "- Predictions with multiple points\n",
    "    - Making accurate predictions gets harder with more points\n",
    "    - At any set of weights, there are many values of the error corresponding to the many points we make predictions for\n",
    "- Loss function\n",
    "    - Aggregates errors in predictions from many data points into single number\n",
    "    - Measure of model's predictive performance\n",
    "    - Lower loss function value means a better model\n",
    "    - Goal: Find the weights that give the lowest value for the loss function\n",
    "        - Gradient Descent\n",
    "- Graduent Descent\n",
    "    - start at random point\n",
    "    - Until you are somewhere flat:\n",
    "        - Find the slop\n",
    "        - Take a step downhill"
   ]
  },
  {
   "cell_type": "markdown",
   "id": "03726563",
   "metadata": {},
   "source": [
    "#### Calculating model errors\n",
    "For the exercises in this chapter, you'll continue working with the network to predict transactions for a bank.\n",
    "\n",
    "What is the error (predicted - actual) for the following network using the ReLU activation function when the input data is [3, 2] and the actual value of the target (what you are trying to predict) is 5? It may be helpful to get out a pen and piece of paper to calculate these values.\n",
    "\n",
    "![](img7.png)"
   ]
  },
  {
   "cell_type": "markdown",
   "id": "39408604",
   "metadata": {},
   "source": [
    " `3*2=6, 2*1=2 ==> 6+2 =8 (hidden top)`\n",
    " \n",
    "`3*0=0, 2*0=0 ==> 0 (hidden bottom)`\n",
    "\n",
    "`output 1 = 8*2 = 16`\n",
    "\n",
    "`output2 = 0*2 = 0`\n",
    "\n",
    "final output = 16+0 = 16 = predicted value\n",
    "\n",
    "\n",
    "Actual - predicted = 5 -16 = -11\n",
    "note: The network generates a prediction of 16, which results in an error of 11."
   ]
  },
  {
   "cell_type": "code",
   "execution_count": 36,
   "id": "1c50e7dc",
   "metadata": {},
   "outputs": [],
   "source": [
    "input_data = np.array([3, 5])\n",
    "weights = {\"node_0\" : np.array([2.01, 0]),\n",
    "          \"node_1\" : np.array([1, 0]),\n",
    "          \"output\": np.array([2, 2])}"
   ]
  },
  {
   "cell_type": "code",
   "execution_count": null,
   "id": "d4188907",
   "metadata": {},
   "outputs": [],
   "source": [
    "# Calculate node 0 value: node_0_value\n",
    "node_0_value = (input_data * weights['node_0']).sum()\n",
    "\n",
    "# Calculate node 1 value: node_1_value\n",
    "node_1_value = (input_data * weights[\"node_1\"]).sum()\n",
    "\n",
    "# Put node values into array: hidden_layer_outputs\n",
    "hidden_layer_outputs = np.array([node_0_value, node_1_value])\n",
    "\n",
    "# Calculate output: output\n",
    "output = (hidden_layer_outputs * weights['output']).sum()\n",
    "\n",
    "# Print output\n",
    "print(output)"
   ]
  },
  {
   "cell_type": "markdown",
   "id": "02a4a07b",
   "metadata": {},
   "source": [
    "note:  Increasing the weight to 2.01  making the predictions less accurate."
   ]
  },
  {
   "cell_type": "markdown",
   "id": "930c4893",
   "metadata": {},
   "source": [
    "#### Coding how weight changes affect accuracy\n",
    "Now you'll get to change weights in a real network and see how they affect model accuracy!\n",
    "\n",
    "Have a look at the following neural network:\n",
    "\n",
    "![](img8.png)\n",
    "Its weights have been pre-loaded as `weights_0`. Your task in this exercise is to update a single weight in `weights_0` to create `weights_1`, which gives a perfect prediction (in which the predicted value is equal to `target_actual: 3`).\n",
    "\n",
    "Use a pen and paper if necessary to experiment with different combinations. You'll use the `predict_with_network()` function, which takes an array of data as the first argument, and `weights` as the second argument.\n",
    "\n",
    " - Create a dictionary of weights called `weights_1` where you have changed 1 weight from `weights_0` (You only need to make 1 edit to `weights_0` to generate the perfect prediction).\n",
    " - Obtain predictions with the new weights using the `predict_with_network()` function with `input_data` and `weights_1`.\n",
    " - Calculate the error for the new weights by subtracting `target_actual` from `model_output_1`.\n",
    "Hit '`Submit Answer`' to see how the errors compare!"
   ]
  },
  {
   "cell_type": "code",
   "execution_count": 40,
   "id": "a18d1439",
   "metadata": {},
   "outputs": [],
   "source": [
    "def relu(input):\n",
    "    '''Define your relu activatino function here'''\n",
    "    # Calculate the value for the output of the relu function: output\n",
    "    output = max(0, input)\n",
    "    \n",
    "    # Return the value just calculate\n",
    "    return output"
   ]
  },
  {
   "cell_type": "code",
   "execution_count": 41,
   "id": "1927a4c1",
   "metadata": {},
   "outputs": [],
   "source": [
    "def predict_with_network(input_data_point, weights):\n",
    "    node_0_input = (input_data_point * weights['node_0']).sum()\n",
    "    node_0_output = relu(node_0_input)\n",
    "    \n",
    "    node_1_input = (input_data_point * weights['node_1']).sum()\n",
    "    node_1_output = relu(node_1_input)\n",
    "    \n",
    "    hidden_layer_values = np.array([node_0_output, node_1_output])\n",
    "    input_to_final_layer = (hidden_layer_values * weights['output']).sum()\n",
    "    model_output = relu(input_to_final_layer)\n",
    "    \n",
    "    return(model_output)"
   ]
  },
  {
   "cell_type": "code",
   "execution_count": 44,
   "id": "b66bf02e",
   "metadata": {},
   "outputs": [
    {
     "name": "stdout",
     "output_type": "stream",
     "text": [
      "6\n",
      "0\n"
     ]
    }
   ],
   "source": [
    "# The data point you will make a prediction for\n",
    "input_data = np.array([0, 3])\n",
    "# Sample weights\n",
    "weights_0 = {\"node_0\" : np.array([2, 1]),\n",
    "          \"node_1\" : np.array([1, 2]),\n",
    "          \"output\": np.array([1, 1])}\n",
    "# The actual target value, used to calculate the error\n",
    "target_actual = 3\n",
    "\n",
    "# Make prediction using original weights\n",
    "model_output_0 = predict_with_network(input_data, weights_0)\n",
    "\n",
    "# Calculate error: error_0\n",
    "error_0 = model_output_0 - target_actual\n",
    "\n",
    "# Create weights that cause the network to make perfect prediction (3): weights_1\n",
    "weights_1 = {\"node_0\" : np.array([2, 1]),\n",
    "          \"node_1\" : np.array([1, 2]),\n",
    "          \"output\": np.array([1, 0])}\n",
    "\n",
    "# Make prediction using new weights: model_output_1\n",
    "model_output_1 = predict_with_network(input_data, weights_1)\n",
    "\n",
    "# Calculate error: error_0\n",
    "error_1 = model_output_1 - target_actual\n",
    "\n",
    "# Print error_0 and error_1\n",
    "print(error_0)\n",
    "print(error_1)"
   ]
  },
  {
   "cell_type": "markdown",
   "id": "c3f808ce",
   "metadata": {},
   "source": [
    "note: The network now generates a perfect prediction with an error of 0"
   ]
  },
  {
   "cell_type": "markdown",
   "id": "9d4ea37e",
   "metadata": {},
   "source": [
    "#### Scaling up to multiple data points\n",
    "You've seen how different weights will have different accuracies on a single prediction. But usually, you'll want to measure model accuracy on many points. You'll now write code to compare model accuracies for two different sets of weights, which have been stored as `weights_0` and `weights_1`.\n",
    "\n",
    "input_data is a list of arrays. Each item in that list contains the data to make a single prediction. `target_actuals` is a list of numbers. Each item in that list is the actual value we are trying to predict.\n",
    "\n",
    "In this exercise, you'll use the `mean_squared_error()` function from `sklearn.metrics`. It takes the true values and the predicted values as arguments.\n",
    "\n",
    "You'll also use the preloaded `predict_with_network()` function, which takes an array of data as the first argument, and weights as the second argument.\n",
    "\n",
    " - Import `mean_squared_error` from `sklearn.metrics`.\n",
    " \n",
    " - Using a `for loop` to iterate over each row of `input_data`:\n",
    " \n",
    " - Make predictions for each row with `weights_0` using the `predict_with_network()` function and append it to `model_output_0`.\n",
    " \n",
    " - Do the same for `weights_1`, appending the predictions to `model_output_1`.\n",
    " \n",
    " - Calculate the `mean squared error of` `model_output_0` and then `model_output_1` using the `mean_squared_error()` function. \n",
    " The first argument should be the actual values `(target_actuals)`, and the second argument should be the predicted values `(model_output_0 or model_output_1)`."
   ]
  },
  {
   "cell_type": "code",
   "execution_count": 46,
   "id": "51817fab",
   "metadata": {},
   "outputs": [],
   "source": [
    "weights_0 = {'node_0': np.array([2, 1]), 'node_1': np.array([1, 2]), 'output': np.array([1, 1])}\n",
    "weights_1 = {'node_0': np.array([2, 1]), 'node_1': np.array([1, 1.5]), 'output': np.array([1, 1.5])}\n",
    "input_data = [np.array([0, 3]), np.array([1, 2]), np.array([-1, -2]), np.array([4, 0])]\n",
    "target_actuals = [1, 3, 5, 7]"
   ]
  },
  {
   "cell_type": "code",
   "execution_count": 47,
   "id": "1824d9e1",
   "metadata": {},
   "outputs": [
    {
     "name": "stdout",
     "output_type": "stream",
     "text": [
      "Mean squared error with weights_0: 37.500000\n",
      "Mean squared error with weights_1: 49.890625\n"
     ]
    }
   ],
   "source": [
    "from sklearn.metrics import mean_squared_error\n",
    "# Create model_output_0 \n",
    "model_output_0 = []\n",
    "# Create model_output_1\n",
    "model_output_1 = []\n",
    "\n",
    "# Loop over input_data\n",
    "for row in input_data:\n",
    "    # Append prediction to model_output_0\n",
    "    model_output_0.append(predict_with_network(row, weights_0))\n",
    "    \n",
    "    # Append prediction to model_output_1\n",
    "    model_output_1.append(predict_with_network(row, weights_1))\n",
    "\n",
    " # Calculate the mean squared error for model_output_0: mse_0\n",
    "mse_0 = mean_squared_error(target_actuals, model_output_0)\n",
    "\n",
    "# Calculate the mean squared error for model_output_1: mse_1\n",
    "mse_1 = mean_squared_error(target_actuals, model_output_1)\n",
    "\n",
    "# Print mse_0 and mse_1\n",
    "print(\"Mean squared error with weights_0: %f\" %mse_0)\n",
    "print(\"Mean squared error with weights_1: %f\" %mse_1)\n",
    " \n"
   ]
  },
  {
   "cell_type": "markdown",
   "id": "e92eab5d",
   "metadata": {},
   "source": [
    "note; It looks like model_output_1 has a higher mean squared error."
   ]
  },
  {
   "cell_type": "markdown",
   "id": "753714f2",
   "metadata": {},
   "source": [
    "### Gradient descent\n",
    "If the slope is positive, going opposite the slope means moving to lower numbers. Subtracting the slope from the current value achieves this. But too big a step might lead us far astray. So, instead of directly subtracting the slope, we multiply the slope by a small number, called the learning rate, and we change the weight by the product of that multiplication. Learning rate are frequently around point-01. This ensures we take small steps, so we reliably move towards the optimal weights. But how do we find the relevant slope for each weight we need to update? Working this out for yourself involves calculus, especially the application of the chain rule. Don't worry if you don't remember or don't know the underlying calculus. We'll explain some basic concepts here, and Keras and TensorFlow do the calculus for us.\n",
    "\n",
    "- Gradient descent\n",
    "    - If the slope is positive:\n",
    "        - Going opposite the slope means moving to lower numbers\n",
    "        - Subtract the slope from the current value\n",
    "        - Too big a step might lead us astray\n",
    "    - Solution: learning rate ($\\eta$)\n",
    "        - Update each weight by subtracting learning rate * slope"
   ]
  },
  {
   "cell_type": "markdown",
   "id": "d28ed7f1",
   "metadata": {},
   "source": [
    "#### Calculating slopes\n",
    "You're now going to practice calculating slopes. When plotting the mean-squared error loss function against predictions, the slope is `2 * x * (xb-y)`, or `2 * input_data * error`. Note that `x and b` may have multiple numbers (x is a vector for each data point, and b is a vector). In this case, the output will also be a vector, which is exactly what you want.\n",
    "\n",
    "You're ready to write the code to calculate this slope while using a single data point. You'll use pre-defined `weights` called weights as well as data for a single point called `input_data`. The actual value of the target you want to predict is stored in target.\n",
    "\n",
    " - Calculate the predictions, `preds`, by multiplying `weights` by the `input_data` and computing their sum.\n",
    " - Calculate the `error`, which is `preds minus target`. Notice that this error corresponds to `xb-y` in the gradient expression.\n",
    " - Calculate the slope of the loss function with respect to the prediction. To do this, you need to take the product of `input_data` and `error` and `multiply` that by `2`."
   ]
  },
  {
   "cell_type": "code",
   "execution_count": 48,
   "id": "009bc5fa",
   "metadata": {},
   "outputs": [],
   "source": [
    "weights = np.array([0, 2, 1])\n",
    "input_data = np.array([1, 2, 3])\n",
    "target = 0"
   ]
  },
  {
   "cell_type": "code",
   "execution_count": 49,
   "id": "a7a2e5be",
   "metadata": {},
   "outputs": [
    {
     "name": "stdout",
     "output_type": "stream",
     "text": [
      "[14 28 42]\n"
     ]
    }
   ],
   "source": [
    "# Calculate the predictions: preds\n",
    "preds = (input_data * weights).sum()\n",
    "\n",
    "# Calculate the error: error\n",
    "error = preds - target\n",
    "\n",
    "# Calculate the slope: slope\n",
    "slope = input_data * error * 2\n",
    "\n",
    "# Print the slope\n",
    "print(slope)\n"
   ]
  },
  {
   "cell_type": "markdown",
   "id": "81b5590c",
   "metadata": {},
   "source": [
    "note: You can now use this slope to improve the weights of the model!"
   ]
  },
  {
   "cell_type": "markdown",
   "id": "aee1f092",
   "metadata": {},
   "source": [
    "#### Improving model weights\n",
    "Hurray! You've just calculated the slopes you need. Now it's time to use those slopes to improve your model. If you add the `slopes` to your `weights`, you will move in the right direction. However, it's possible to move too far in that direction. So you will want to take a small step in that direction first, using a `lower learning rate`, and verify that the model is improving.\n",
    "\n",
    "The `weights` have been pre-loaded as weights, the actual value of the target as `target`, and the input data as `input_data`. The predictions from the initial `weights are stored as preds`.\n",
    "\n",
    " - Set the `learning rate to be 0.01` and calculate the `error` from the original predictions. This has been done for you.\n",
    " - Calculate the `updated weights` by subtracting the product of `learning_rate` and `slope` from `weights`.\n",
    " - Calculate the updated predictions by multiplying `weights_updated` with `input_data` and computing their sum.\n",
    " - Calculate the `error` for the new predictions. Store the result as `error_updated`.\n",
    " - Hit `'Submit Answer'` to compare the updated error to the original!"
   ]
  },
  {
   "cell_type": "code",
   "execution_count": 51,
   "id": "8c2190d1",
   "metadata": {},
   "outputs": [
    {
     "name": "stdout",
     "output_type": "stream",
     "text": [
      "7\n",
      "5.04\n"
     ]
    }
   ],
   "source": [
    "# Set the learning rate: learning_rate\n",
    "learning_rate = 0.01\n",
    "\n",
    "# Calculate the predictions: preds\n",
    "preds = (weights * input_data).sum()\n",
    "\n",
    "# Calculate the error: error\n",
    "error = preds - target\n",
    "\n",
    "# Calculate the slope: slope\n",
    "slope = 2 * input_data * error\n",
    "\n",
    "# Update the weights: weights_updated\n",
    "weights_updated = weights - learning_rate * slope\n",
    "\n",
    "# Get updated predictions: preds_updated\n",
    "preds_updated = (weights_updated * input_data).sum()\n",
    "\n",
    "# Calculate updated error: error_updated\n",
    "error_updated = preds_updated - target\n",
    "\n",
    "# Print the original error\n",
    "print(error)\n",
    "\n",
    "# Print the updated error\n",
    "print(error_updated)"
   ]
  },
  {
   "cell_type": "markdown",
   "id": "ef3d1b75",
   "metadata": {},
   "source": [
    "note: Updating the model weights did indeed decrease the error!"
   ]
  },
  {
   "cell_type": "markdown",
   "id": "83766bd6",
   "metadata": {},
   "source": [
    "#### Making multiple updates to weights\n",
    "You're now going to make multiple updates so you can dramatically improve your model weights, and see how the predictions improve with each update.\n",
    "\n",
    "To keep your code clean, there is a `pre-loaded get_slope()` function that takes `input_data`, `targe`t, and `weights` as arguments. There is also a `get_mse()` function that takes the same arguments. The `input_data`, `target`, and `weights` have been pre-loaded.\n",
    "\n",
    "This network does not have any hidden layers, and it goes directly from the input (with 3 nodes) to an output node. Note that weights is a single array.\n",
    "\n",
    "We have also pre-loaded `matplotlib.pyplot`, and the error history will be plotted after you have done your gradient descent steps.\n",
    "\n",
    "- Using a for loop to iteratively update `weights:\n",
    "- Calculate the slope using the `get_slope()` function.\n",
    "- Update the weights using a learning rate of `0.01`.\n",
    "- Calculate the mean squared error `(mse)` with the updated weights using the `get_mse()` function.\n",
    "- Append mse to `mse_hist`.\n",
    "- Hit `'Submit Answer'` to visualize mse_hist. What trend do you notice?"
   ]
  },
  {
   "cell_type": "code",
   "execution_count": 52,
   "id": "3cedac78",
   "metadata": {},
   "outputs": [],
   "source": [
    "def get_error(input_data, target, weights):\n",
    "    preds = (weights * input_data).sum()\n",
    "    error = preds - target\n",
    "    return error\n",
    "\n",
    "def get_slope(input_data, target, weights):\n",
    "    error = get_error(input_data, target, weights)\n",
    "    slope = 2 * input_data * error\n",
    "    return slope\n",
    "\n",
    "def get_mse(input_data, target, weights):\n",
    "    errors = get_error(input_data, target, weights)\n",
    "    mse = np.mean(errors ** 2)\n",
    "    return mse"
   ]
  },
  {
   "cell_type": "code",
   "execution_count": 53,
   "id": "6635ba70",
   "metadata": {},
   "outputs": [
    {
     "data": {
      "image/png": "[encoded data removed]",
      "text/plain": [
       "<Figure size 576x576 with 1 Axes>"
      ]
     },
     "metadata": {
      "needs_background": "light"
     },
     "output_type": "display_data"
    }
   ],
   "source": [
    "n_updates = 20\n",
    "mse_hist = []\n",
    "\n",
    "# Iterate over the number of updates\n",
    "for i in range(n_updates):\n",
    "    # Calculate the slope: slope\n",
    "    slope = get_slope(input_data, target, weights)\n",
    "    \n",
    "    # Update the weights: weights\n",
    "    weights = weights - 0.01 * slope\n",
    "    \n",
    "    # Calculate mse with new weights: mse\n",
    "    mse = get_mse(input_data, target, weights)\n",
    "    \n",
    "    # Append the mse to mse_hist\n",
    "    mse_hist.append(mse)\n",
    "\n",
    "# Plot the mse history\n",
    "plt.plot(mse_hist)\n",
    "plt.xlabel('Iterations')\n",
    "plt.ylabel('Mean Squared Error')\n",
    "plt.show()"
   ]
  },
  {
   "cell_type": "markdown",
   "id": "59c10808",
   "metadata": {},
   "source": [
    "note: As you can see, the mean squared error decreases as the number of iterations go up."
   ]
  },
  {
   "cell_type": "markdown",
   "id": "dc4f110c",
   "metadata": {},
   "source": [
    "####  -  Backpropagation\n",
    "You’ve used gradient descent to optimize weights in a simple model. Now we'll add a technique called “back propagation” to calculate the slopes you need to optimize more complex deep learning models.\n",
    "\n",
    " -  Backpropagation\n",
    "\n",
    "Just as forward propagation sends input data through the hidden layers and into the output layer, back propagation takes the error from the output layer and propagates it backward through the hidden layers, towards the input layer. It calculates the necessary slopes sequentially from the weights closest to the prediction, through the hidden layers, eventually back to the weights coming from the inputs. We then use these slopes to update our weights as you've seen. Back propagation is tricky. So you should focus on the general structure of the algorithm, rather than trying to memorize every mathematical detail.\n",
    "\n",
    " -  Backpropagation process\n",
    "In the big picture, we are trying to estimate the slope of the loss function with respect to each weight in our network. You've already seen that we use prediction errors to calculate some of those slopes. So we always do forward propagation to make a prediction and calculate an error before we do back propagation.\n",
    "\n",
    "Here are the results of forward propagation. Node values are in white and weights are in black. We need to be at this step before we can start back-propagation. Notice, we are using the \"relu\" activation function. So any node whose input is negative takes a value of 0, and that happens in the top node of the first hidden layer.\n",
    "\n",
    "\n",
    "For back-propagation, we go back one layer at a time, and each time we go back a layer, we'll use a formula for slopes that you saw in the last video. Every weight feeds from some input node into some output node. The three things we multiply to get the slope for that weight are1, the value at the weights input node.2, the slope from plotting the loss function against that weight's output node.3, the slope of the activation function at the weight's output. We know the value at the node feeding into this weight. Either it is in an input layer, in which case we have it from the data. Or that node is in a hidden layer, in which case we calculated its value when we did forward propagation. The second item on this list is the slope of the loss function with respect to the output node. We do backward propagation from the right side of our diagram to the left. So we already calculated that slope by the time we to plug it into the current calculation. Finally we need the slope of the activation function at the node it feeds into.\n",
    "\n",
    "  - ReLU Activation Function\n",
    " \n",
    "You can see from this diagram that, for the ReLU function, the slope is 0 if the input into a node is negative. If the input into the node is positive, the output is the same as the input. So the slope would be 1.So far,\n",
    "\n",
    " - Backpropagation process\n",
    " \n",
    "we have focused on calculating slopes of the loss function with respect to weights. We also keep track of the slopes of the loss function with respect to node values, because we use those slopes in our calculations of slopes at weights. The slope of the loss function with respect to any node value is the sum of the slopes for every weight coming into that node. -"
   ]
  },
  {
   "cell_type": "markdown",
   "id": "f9308b8a",
   "metadata": {},
   "source": [
    "#### Question: The relationship between forward and backward propagation\n",
    "\n",
    "If you have gone through 4 iterations of calculating slopes (using backward propagation) and then updated weights, how many times must you have done forward propagation?\n",
    "\n",
    "Answer: 4. Each time you generate predictions using forward propagation, you update the weights using backward propagation."
   ]
  },
  {
   "cell_type": "markdown",
   "id": "0d6ab66e",
   "metadata": {},
   "source": [
    "#### Question: Thinking about backward propagation\n",
    "\n",
    "If your predictions were all exactly right, and your errors were all exactly 0, the slope of the loss function with respect to your predictions would also be 0. In that circumstance, which of the following statements would be correct?\n",
    "\n",
    "Answer: The updates to all weights in the network would also be 0."
   ]
  },
  {
   "cell_type": "markdown",
   "id": "19e70bd8",
   "metadata": {},
   "source": [
    "\n",
    "- #### Backpropagation\n",
    "![](img9.png)\n",
    "    - Allows gradient descent to update all weights in neural network (by getting gradients for all weights)\n",
    "    - Comes from chain rule of calculus\n",
    "    - Important to understand the process, but you will generally use a library that implements this\n",
    "- Backpropagation process\n",
    "    - Trying to estimate the slope of the loss function w.r.t each weight\n",
    "    - Do forward propagation to calculate predictions and errors\n",
    "    - Go back one layer at a time\n",
    "    - Gradients for weight is product of:\n",
    "        1. Node value feeding into that weight\n",
    "        2. Slope of loss function w.r.t node it feeds into\n",
    "        3. Slope of activation function at the node it feeds into\n",
    "    - Need to also keep track of the slopes of the loss function w.r.t node values\n",
    "    - Slope of node values are the sum of the slopes for all weights that come out of them"
   ]
  },
  {
   "cell_type": "markdown",
   "id": "a3405898",
   "metadata": {},
   "source": [
    "#### Backpropagation in practice\n",
    "- Calculating slopes associated with any weight\n",
    "    - Gradients for weight is product of:\n",
    "        1. Node value feeding into that weight\n",
    "        2. Slope of activation function for the node being fed into\n",
    "        3. Slope of loss function w.r.t output node\n",
    "- Recap\n",
    "    - Start at some random set of weights\n",
    "    - Use forward propagation to make a prediction\n",
    "    - Use backward propagation to calculate the slope of the loss function w.r.t each weight\n",
    "    - Multiply that slope by the learning rate, and subtract from the current weights\n",
    "- Stochastic Gradient descent\n",
    "    - It is common to calculate slopes on only a subset of the data (a batch)\n",
    "    - Use a different batch of data to calculate the next update\n",
    "    - Each time through the training data is called an epoch\n",
    "    - When slopes are calculated on one batch at a time: stochastic gradient descent"
   ]
  }
 ],
 "metadata": {
  "kernelspec": {
   "display_name": "Python 3 (ipykernel)",
   "language": "python",
   "name": "python3"
  },
  "language_info": {
   "codemirror_mode": {
    "name": "ipython",
    "version": 3
   },
   "file_extension": ".py",
   "mimetype": "text/x-python",
   "name": "python",
   "nbconvert_exporter": "python",
   "pygments_lexer": "ipython3",
   "version": "3.8.8"
  }
 },
 "nbformat": 4,
 "nbformat_minor": 5
}
